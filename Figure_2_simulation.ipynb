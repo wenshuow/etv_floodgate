{
 "cells": [
  {
   "cell_type": "code",
   "execution_count": 1,
   "id": "7ceabcd4",
   "metadata": {},
   "outputs": [],
   "source": [
    "import timeit\n",
    "from fg import cov_matrix, etv_result, floodgate_data, get_true_TV\n",
    "import numpy as np\n",
    "p, J, CV = 4, 100, 10\n",
    "kappa, rho = 100, 0.5\n",
    "prob_nonnull = 0.5\n",
    "n = int(p*kappa)\n",
    "cov_type = 'AR1'\n",
    "Sigma = cov_matrix(p, cov_type = cov_type, rho = rho)\n",
    "beta = np.zeros(p)\n",
    "n_nonnull = min(int((p-1)*prob_nonnull+1), p-1)\n",
    "true_tvs = np.zeros(p)\n",
    "for j in range(n_nonnull + 1):\n",
    "    beta[j] = j+1\n",
    "start = timeit.default_timer()\n",
    "# for j in range(n_nonnull + 1):\n",
    "#     true_tvs[j] = get_true_TV(beta, j, Sigma)\n",
    "# time_used = timeit.default_timer()-start\n",
    "# print(f\"It took {time_used:.2f} seconds to calculate true ETV.\")"
   ]
  },
  {
   "cell_type": "code",
   "execution_count": 2,
   "id": "f3b8e1c7",
   "metadata": {},
   "outputs": [
    {
     "name": "stdout",
     "output_type": "stream",
     "text": [
      "It took 3.57 seconds for 2 experiments with classification function: logistic.\n"
     ]
    }
   ],
   "source": [
    "thresholds = [0.5]\n",
    "classification_function = 'logistic' # select from {\"logistic\", 'oracle', 'RF'}\n",
    "ntimes = 2\n",
    "start = timeit.default_timer()\n",
    "res = sum([etv_result(thresholds, floodgate_data(n, p, J, beta, Sigma, k**2, dgp='probit'),\n",
    "                      J, 'Oracle', classification_function, 'test', CV, 10*k, None) for k in range(ntimes)])/ntimes\n",
    "time_used = timeit.default_timer()-start\n",
    "print(f\"It took {time_used:.2f} seconds for {ntimes} experiments with classification function: {classification_function}.\")"
   ]
  },
  {
   "cell_type": "code",
   "execution_count": 3,
   "id": "c8355a16",
   "metadata": {},
   "outputs": [
    {
     "data": {
      "text/html": [
       "<div>\n",
       "<style scoped>\n",
       "    .dataframe tbody tr th:only-of-type {\n",
       "        vertical-align: middle;\n",
       "    }\n",
       "\n",
       "    .dataframe tbody tr th {\n",
       "        vertical-align: top;\n",
       "    }\n",
       "\n",
       "    .dataframe thead th {\n",
       "        text-align: right;\n",
       "    }\n",
       "</style>\n",
       "<table border=\"1\" class=\"dataframe\">\n",
       "  <thead>\n",
       "    <tr style=\"text-align: right;\">\n",
       "      <th></th>\n",
       "      <th>n</th>\n",
       "      <th>p</th>\n",
       "      <th>beta_j</th>\n",
       "      <th>fg_nonneg</th>\n",
       "    </tr>\n",
       "  </thead>\n",
       "  <tbody>\n",
       "    <tr>\n",
       "      <th>0</th>\n",
       "      <td>400.0</td>\n",
       "      <td>4.0</td>\n",
       "      <td>1.0</td>\n",
       "      <td>0.098007</td>\n",
       "    </tr>\n",
       "    <tr>\n",
       "      <th>0</th>\n",
       "      <td>400.0</td>\n",
       "      <td>4.0</td>\n",
       "      <td>2.0</td>\n",
       "      <td>0.071297</td>\n",
       "    </tr>\n",
       "    <tr>\n",
       "      <th>0</th>\n",
       "      <td>400.0</td>\n",
       "      <td>4.0</td>\n",
       "      <td>3.0</td>\n",
       "      <td>0.258354</td>\n",
       "    </tr>\n",
       "    <tr>\n",
       "      <th>0</th>\n",
       "      <td>400.0</td>\n",
       "      <td>4.0</td>\n",
       "      <td>0.0</td>\n",
       "      <td>0.000000</td>\n",
       "    </tr>\n",
       "  </tbody>\n",
       "</table>\n",
       "</div>"
      ],
      "text/plain": [
       "       n    p  beta_j  fg_nonneg\n",
       "0  400.0  4.0     1.0   0.098007\n",
       "0  400.0  4.0     2.0   0.071297\n",
       "0  400.0  4.0     3.0   0.258354\n",
       "0  400.0  4.0     0.0   0.000000"
      ]
     },
     "execution_count": 3,
     "metadata": {},
     "output_type": "execute_result"
    }
   ],
   "source": [
    "res[['n', 'p', 'beta_j', 'fg_nonneg']]"
   ]
  },
  {
   "cell_type": "code",
   "execution_count": null,
   "id": "0a03aea5",
   "metadata": {},
   "outputs": [],
   "source": []
  }
 ],
 "metadata": {
  "kernelspec": {
   "display_name": "Python 3 (ipykernel)",
   "language": "python",
   "name": "python3"
  },
  "language_info": {
   "codemirror_mode": {
    "name": "ipython",
    "version": 3
   },
   "file_extension": ".py",
   "mimetype": "text/x-python",
   "name": "python",
   "nbconvert_exporter": "python",
   "pygments_lexer": "ipython3",
   "version": "3.11.4"
  }
 },
 "nbformat": 4,
 "nbformat_minor": 5
}
