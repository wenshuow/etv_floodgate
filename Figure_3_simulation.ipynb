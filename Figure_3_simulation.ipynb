{
 "cells": [
  {
   "cell_type": "code",
   "execution_count": 1,
   "id": "b6ae8c64",
   "metadata": {},
   "outputs": [],
   "source": [
    "import timeit\n",
    "from fg import cov_matrix, etv_result2, floodgate_data2\n",
    "import numpy as np\n",
    "import pandas as pd\n",
    "p, J, CV = 11, 10, 10\n",
    "kappa, rho = 20, 0.5\n",
    "prob_nonnull = 0.5\n",
    "n = int(p*kappa)\n",
    "cov_type = 'AR1'\n",
    "beta = np.array([1,2,3,4,5,6,0,0,0,0])"
   ]
  },
  {
   "cell_type": "code",
   "execution_count": 2,
   "id": "ac2b803f",
   "metadata": {},
   "outputs": [
    {
     "name": "stdout",
     "output_type": "stream",
     "text": [
      "beta=4, rho=0.5, J=10\n",
      "classification function: logistic_int\n",
      "CV fold: 10\n",
      "method to choose c: Naive\n",
      "It took 0.26 seconds for 2 experiments.\n",
      "\n",
      "beta=4, rho=0.5, J=10\n",
      "classification function: logistic_int\n",
      "CV fold: 10\n",
      "method to choose c: CV\n",
      "It took 7.25 seconds for 2 experiments.\n",
      "\n",
      "beta=4, rho=0.5, J=10\n",
      "classification function: logistic_int\n",
      "CV fold: 10\n",
      "method to choose c: CV_oracle\n",
      "It took 6.17 seconds for 2 experiments.\n",
      "\n"
     ]
    }
   ],
   "source": [
    "beta_bk = beta.copy()\n",
    "classification_function = 'logistic_int' # select from {'logistic', 'logistic_int'}\n",
    "Sigma = cov_matrix(p-1, cov_type = cov_type, rho = rho)\n",
    "ntimes = 2\n",
    "index = 3\n",
    "beta = beta_bk.copy()\n",
    "beta[0], beta[index] = beta[index], beta[0]\n",
    "selections = ['Naive', 'CV', 'CV_oracle']\n",
    "res = []\n",
    "for selection in selections:\n",
    "    print(f\"beta={beta[0]}, rho={rho}, J={J}\\nclassification function: {classification_function}\\nCV fold: {CV}\\nmethod to choose c: {selection}\")\n",
    "    start = timeit.default_timer()\n",
    "    res += [sum([etv_result2([i/1000 for i in range(500, 600, 10)],\n",
    "                floodgate_data2(n, p, J, beta, Sigma, k**2, dgp='probit'), selection, classification_function, Sigma,\n",
    "                            'test', CV, 10*k, None) for k in range(ntimes)])/ntimes]\n",
    "\n",
    "    time_used = timeit.default_timer()-start\n",
    "    print(f\"It took {time_used:.2f} seconds for {ntimes} experiments.\\n\")"
   ]
  },
  {
   "cell_type": "code",
   "execution_count": 3,
   "id": "27f25865",
   "metadata": {},
   "outputs": [
    {
     "data": {
      "text/html": [
       "<div>\n",
       "<style scoped>\n",
       "    .dataframe tbody tr th:only-of-type {\n",
       "        vertical-align: middle;\n",
       "    }\n",
       "\n",
       "    .dataframe tbody tr th {\n",
       "        vertical-align: top;\n",
       "    }\n",
       "\n",
       "    .dataframe thead th {\n",
       "        text-align: right;\n",
       "    }\n",
       "</style>\n",
       "<table border=\"1\" class=\"dataframe\">\n",
       "  <thead>\n",
       "    <tr style=\"text-align: right;\">\n",
       "      <th></th>\n",
       "      <th>n</th>\n",
       "      <th>p</th>\n",
       "      <th>beta_j</th>\n",
       "      <th>fg_nonneg</th>\n",
       "    </tr>\n",
       "  </thead>\n",
       "  <tbody>\n",
       "    <tr>\n",
       "      <th>Naive</th>\n",
       "      <td>220.0</td>\n",
       "      <td>11.0</td>\n",
       "      <td>4.0</td>\n",
       "      <td>0.038312</td>\n",
       "    </tr>\n",
       "    <tr>\n",
       "      <th>CV</th>\n",
       "      <td>220.0</td>\n",
       "      <td>11.0</td>\n",
       "      <td>4.0</td>\n",
       "      <td>0.025198</td>\n",
       "    </tr>\n",
       "    <tr>\n",
       "      <th>CV_oracle</th>\n",
       "      <td>220.0</td>\n",
       "      <td>11.0</td>\n",
       "      <td>4.0</td>\n",
       "      <td>0.045399</td>\n",
       "    </tr>\n",
       "  </tbody>\n",
       "</table>\n",
       "</div>"
      ],
      "text/plain": [
       "               n     p  beta_j  fg_nonneg\n",
       "Naive      220.0  11.0     4.0   0.038312\n",
       "CV         220.0  11.0     4.0   0.025198\n",
       "CV_oracle  220.0  11.0     4.0   0.045399"
      ]
     },
     "execution_count": 3,
     "metadata": {},
     "output_type": "execute_result"
    }
   ],
   "source": [
    "pd.concat(res)[['n', 'p', 'beta_j', 'fg_nonneg']]"
   ]
  },
  {
   "cell_type": "code",
   "execution_count": null,
   "id": "bbe05932",
   "metadata": {},
   "outputs": [],
   "source": []
  }
 ],
 "metadata": {
  "kernelspec": {
   "display_name": "Python 3 (ipykernel)",
   "language": "python",
   "name": "python3"
  },
  "language_info": {
   "codemirror_mode": {
    "name": "ipython",
    "version": 3
   },
   "file_extension": ".py",
   "mimetype": "text/x-python",
   "name": "python",
   "nbconvert_exporter": "python",
   "pygments_lexer": "ipython3",
   "version": "3.11.4"
  }
 },
 "nbformat": 4,
 "nbformat_minor": 5
}
